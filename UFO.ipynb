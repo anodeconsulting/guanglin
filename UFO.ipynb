{
 "cells": [
  {
   "cell_type": "code",
   "execution_count": 14,
   "metadata": {},
   "outputs": [
    {
     "ename": "IOError",
     "evalue": "[Errno 2] No such file or directory: '/home/green/Documents/output/S82196.txt'",
     "output_type": "error",
     "traceback": [
      "\u001b[0;31m---------------------------------------------------------------------------\u001b[0m",
      "\u001b[0;31mIOError\u001b[0m                                   Traceback (most recent call last)",
      "\u001b[0;32m<ipython-input-14-889474843197>\u001b[0m in \u001b[0;36m<module>\u001b[0;34m()\u001b[0m\n\u001b[1;32m     11\u001b[0m         \u001b[0mresults_file\u001b[0m \u001b[0;34m=\u001b[0m \u001b[0;34m\"%s%s.txt\"\u001b[0m\u001b[0;34m%\u001b[0m\u001b[0;34m(\u001b[0m\u001b[0moutput_dir\u001b[0m\u001b[0;34m,\u001b[0m \u001b[0mos\u001b[0m\u001b[0;34m.\u001b[0m\u001b[0mpath\u001b[0m\u001b[0;34m.\u001b[0m\u001b[0msplitext\u001b[0m\u001b[0;34m(\u001b[0m\u001b[0mos\u001b[0m\u001b[0;34m.\u001b[0m\u001b[0mpath\u001b[0m\u001b[0;34m.\u001b[0m\u001b[0mbasename\u001b[0m\u001b[0;34m(\u001b[0m\u001b[0mfile_name\u001b[0m\u001b[0;34m)\u001b[0m\u001b[0;34m)\u001b[0m\u001b[0;34m[\u001b[0m\u001b[0;36m0\u001b[0m\u001b[0;34m]\u001b[0m\u001b[0;34m)\u001b[0m\u001b[0;34m\u001b[0m\u001b[0m\n\u001b[1;32m     12\u001b[0m         \u001b[0mtmp\u001b[0m \u001b[0;34m=\u001b[0m \u001b[0;34m[\u001b[0m\u001b[0mi\u001b[0m\u001b[0;34m.\u001b[0m\u001b[0mtext\u001b[0m \u001b[0;32mfor\u001b[0m \u001b[0mi\u001b[0m \u001b[0;32min\u001b[0m \u001b[0msoup\u001b[0m\u001b[0;34m.\u001b[0m\u001b[0mfindAll\u001b[0m\u001b[0;34m(\u001b[0m\u001b[0;34m'font'\u001b[0m\u001b[0;34m)\u001b[0m \u001b[0;32mif\u001b[0m \u001b[0mi\u001b[0m\u001b[0;34m.\u001b[0m\u001b[0mget\u001b[0m\u001b[0;34m(\u001b[0m\u001b[0;34m'color'\u001b[0m\u001b[0;34m)\u001b[0m\u001b[0;34m==\u001b[0m\u001b[0;34m\"#FF0000\"\u001b[0m\u001b[0;34m]\u001b[0m\u001b[0;34m\u001b[0m\u001b[0m\n\u001b[0;32m---> 13\u001b[0;31m         \u001b[0;32mwith\u001b[0m \u001b[0mopen\u001b[0m\u001b[0;34m(\u001b[0m\u001b[0mresults_file\u001b[0m\u001b[0;34m,\u001b[0m \u001b[0;34m'w'\u001b[0m\u001b[0;34m)\u001b[0m \u001b[0;32mas\u001b[0m \u001b[0mfp\u001b[0m\u001b[0;34m:\u001b[0m\u001b[0;34m\u001b[0m\u001b[0m\n\u001b[0m\u001b[1;32m     14\u001b[0m             \u001b[0;32mprint\u001b[0m \u001b[0;34m\"\\n\"\u001b[0m\u001b[0;34m.\u001b[0m\u001b[0mjoin\u001b[0m\u001b[0;34m(\u001b[0m\u001b[0mtmp\u001b[0m\u001b[0;34m)\u001b[0m\u001b[0;34m\u001b[0m\u001b[0m\n\u001b[1;32m     15\u001b[0m             \u001b[0mfp\u001b[0m\u001b[0;34m.\u001b[0m\u001b[0mwrite\u001b[0m\u001b[0;34m(\u001b[0m\u001b[0;34m\"\\n\"\u001b[0m\u001b[0;34m.\u001b[0m\u001b[0mjoin\u001b[0m\u001b[0;34m(\u001b[0m\u001b[0mtmp\u001b[0m\u001b[0;34m)\u001b[0m\u001b[0;34m)\u001b[0m\u001b[0;34m\u001b[0m\u001b[0m\n",
      "\u001b[0;31mIOError\u001b[0m: [Errno 2] No such file or directory: '/home/green/Documents/output/S82196.txt'"
     ]
    }
   ],
   "source": [
    "# extract data from multiple .html\n",
    "import glob\n",
    "import os\n",
    "from bs4 import BeautifulSoup\n",
    "input_dir = '/home/green/Documents/input/'\n",
    "output_dir = '/home/green/Documents/output/'\n",
    "\n",
    "for file_name in glob.glob(input_dir+ '*.html'):\n",
    "    with open(file_name) as fp:\n",
    "        soup = BeautifulSoup(fp)\n",
    "        results_file = \"%s%s.txt\"%(output_dir, os.path.splitext(os.path.basename(file_name))[0])\n",
    "        tmp = [i.text for i in soup.findAll('font') if i.get('color')==\"#FF0000\"]\n",
    "        with open(results_file, 'w') as fp:\n",
    "            print \"\\n\".join(tmp)\n",
    "            fp.write(\"\\n\".join(tmp))"
   ]
  },
  {
   "cell_type": "code",
   "execution_count": 30,
   "metadata": {},
   "outputs": [
    {
     "name": "stdout",
     "output_type": "stream",
     "text": [
      "Sighting Report\n",
      "Occurred : 8/1/1973 13:00  (Entered as : 08/01/73 13:00)\n",
      "Reported: 8/27/2011 9:55:01 AM 09:55\n",
      "Posted: 10/10/2011\n",
      "Location: Steubenville, OH\n",
      "Shape: Cylinder\n",
      "Duration:7-8 minutes\n",
      "Orange cylinder flying slowly at low altitude\n",
      "The object was traveling slowly at constant speed, approximately 35 degrees east of north over the south side of the city.  It was mid afternoon, clear blue skies, no clouds.  It was flying at an altitude of approx. 300-400 feet, and was viewed for several minutes until exiting our field of view.  It flew with its long axis in a horizontal orientation, and did not appear to change direction or altitude.\n",
      "The object was cylindrical in shape with hemispherical ends and orange in color.  Around the center third of the object was a rotating frame or cage-like structure, silver in color.  The frame made one revolution every 12-16 seconds (est.).\n",
      "There were no surface details visible on the cylinder, no visible connection between the frame and the cylinder, there were no lights and no sound.\n",
      "The object appeared to measure approximately 75 feet in length, and about 15 feet in diameter.  The frame measured between 20-25 feet in diameter.\n",
      "The frame consisted of a bright silver metallic structure of constant overall diameter, and consisted of horizontal structural members connecting equally space bands or rings.  All of the structure appeared to be of the same material and cross-sectional size, which must have been several inches wide (maybe 6-12 inches).  Spacing between each horizontal or ring member was 4-5 feet.\n",
      "((NUFORC Note:  Witness indicates that the date of the sighting is approximate.  PD))\n"
     ]
    }
   ],
   "source": [
    "from bs4 import BeautifulSoup\n",
    "with open('/home/green/Documents/input/S83474.html') as fp:\n",
    "    soup = BeautifulSoup(fp)\n",
    "\n",
    "print soup.get_text(\"\\n\", strip=True)"
   ]
  },
  {
   "cell_type": "code",
   "execution_count": null,
   "metadata": {},
   "outputs": [],
   "source": [
    "ufo_columns = ['Occurred Time', 'Reported Time', 'Posted Date', 'Location', 'Shape', 'Duration', 'Description']\n"
   ]
  },
  {
   "cell_type": "code",
   "execution_count": null,
   "metadata": {},
   "outputs": [],
   "source": [
    "#convert location to city, state, latitude, longitude\n",
    "#convert duration into seconds"
   ]
  },
  {
   "cell_type": "markdown",
   "metadata": {},
   "source": [
    "##**Exploratory Data Analysis**\n",
    "1. UFO happens frequent area?\n",
    "2. "
   ]
  },
  {
   "cell_type": "code",
   "execution_count": null,
   "metadata": {},
   "outputs": [],
   "source": []
  }
 ],
 "metadata": {
  "kernelspec": {
   "display_name": "Python 2",
   "language": "python",
   "name": "python2"
  },
  "language_info": {
   "codemirror_mode": {
    "name": "ipython",
    "version": 2
   },
   "file_extension": ".py",
   "mimetype": "text/x-python",
   "name": "python",
   "nbconvert_exporter": "python",
   "pygments_lexer": "ipython2",
   "version": "2.7.14"
  }
 },
 "nbformat": 4,
 "nbformat_minor": 2
}
