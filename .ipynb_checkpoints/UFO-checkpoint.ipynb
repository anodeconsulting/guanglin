{
 "cells": [
  {
   "cell_type": "code",
   "execution_count": null,
   "metadata": {},
   "outputs": [],
   "source": [
    "# extract data from multiple .html and load to multiple .json\n",
    "import glob\n",
    "import os\n",
    "input_dir = '/home/green/Documents/input/'\n",
    "output_dir = '/home/green/Documents/output/'\n",
    "\n",
    "for file_name in glob.glob(input_dir+ '*.html'):\n",
    "    with open(file_name) as fp:\n",
    "        report = extract1(fp)\n",
    "    write(output_dir+ 'uforeport_*.json')"
   ]
  },
  {
   "cell_type": "code",
   "execution_count": 1,
   "metadata": {
    "scrolled": false
   },
   "outputs": [],
   "source": [
    "#extract seperate file and convert to dictionary with BeautifulSoup\n",
    "#report.keys = ['Title', 'Occurred Time', 'Reported Time', 'Posted Date', 'Location', 'Shape', 'Duration', 'Description']\n",
    "def extract1(filename):\n",
    "    from bs4 import BeautifulSoup\n",
    "    with open('/home/green/Documents/input/S83474.html') as fp:\n",
    "        soup = BeautifulSoup(fp)\n",
    "\n",
    "    text = soup.get_text('|', strip='True')\n",
    "    text = text.split('|')\n",
    "    print len(text)\n",
    "    for i in text:\n",
    "        print i\n",
    "        print \"----------------\"\n",
    "    report = {}\n",
    "    report['Title'] = text[0]\n",
    "    for i in text:\n",
    "        if \":\" in i:\n",
    "            report"
   ]
  },
  {
   "cell_type": "code",
   "execution_count": 22,
   "metadata": {},
   "outputs": [
    {
     "name": "stdout",
     "output_type": "stream",
     "text": [
      "<tr valign=\"TOP\">\n",
      "<td bordercolor=\"#d0d7e5\"><font color=\"#000000\" face=\"Calibri\" style=\"FONT-SIZE:11pt\">Occurred : 8/1/1973 13:00  (Entered as : 08/01/73 13:00)<br/>Reported: 8/27/2011 9:55:01 AM 09:55<br/>Posted: 10/10/2011<br/>Location: Steubenville, OH<br/>Shape: Cylinder<br/>Duration:7-8 minutes</font></td>\n",
      "</tr>\n"
     ]
    },
    {
     "ename": "TypeError",
     "evalue": "'NoneType' object is not callable",
     "output_type": "error",
     "traceback": [
      "\u001b[0;31m---------------------------------------------------------------------------\u001b[0m",
      "\u001b[0;31mTypeError\u001b[0m                                 Traceback (most recent call last)",
      "\u001b[0;32m<ipython-input-22-7b9e985fbf1b>\u001b[0m in \u001b[0;36m<module>\u001b[0;34m()\u001b[0m\n\u001b[1;32m      9\u001b[0m \u001b[0;32mprint\u001b[0m \u001b[0mreport\u001b[0m\u001b[0;34m[\u001b[0m\u001b[0;36m1\u001b[0m\u001b[0;34m]\u001b[0m\u001b[0;34m\u001b[0m\u001b[0m\n\u001b[1;32m     10\u001b[0m \u001b[0mkv\u001b[0m \u001b[0;34m=\u001b[0m \u001b[0mreport\u001b[0m\u001b[0;34m[\u001b[0m\u001b[0;36m1\u001b[0m\u001b[0;34m]\u001b[0m\u001b[0;34m\u001b[0m\u001b[0m\n\u001b[0;32m---> 11\u001b[0;31m \u001b[0mkv\u001b[0m \u001b[0;34m=\u001b[0m \u001b[0mkv\u001b[0m\u001b[0;34m.\u001b[0m\u001b[0msplit\u001b[0m\u001b[0;34m(\u001b[0m\u001b[0;34m'br'\u001b[0m\u001b[0;34m)\u001b[0m\u001b[0;34m\u001b[0m\u001b[0m\n\u001b[0m\u001b[1;32m     12\u001b[0m \u001b[0;32mfor\u001b[0m \u001b[0mi\u001b[0m \u001b[0;32min\u001b[0m \u001b[0mrange\u001b[0m\u001b[0;34m(\u001b[0m\u001b[0;36m6\u001b[0m\u001b[0;34m)\u001b[0m\u001b[0;34m:\u001b[0m\u001b[0;34m\u001b[0m\u001b[0m\n\u001b[1;32m     13\u001b[0m     \u001b[0mkey\u001b[0m\u001b[0;34m,\u001b[0m \u001b[0mvalue\u001b[0m \u001b[0;34m=\u001b[0m \u001b[0mkv\u001b[0m\u001b[0;34m[\u001b[0m\u001b[0mi\u001b[0m\u001b[0;34m]\u001b[0m\u001b[0;34m.\u001b[0m\u001b[0msplit\u001b[0m\u001b[0;34m(\u001b[0m\u001b[0;34m\":\"\u001b[0m\u001b[0;34m,\u001b[0m \u001b[0;36m1\u001b[0m\u001b[0;34m)\u001b[0m\u001b[0;34m\u001b[0m\u001b[0m\n",
      "\u001b[0;31mTypeError\u001b[0m: 'NoneType' object is not callable"
     ]
    }
   ],
   "source": [
    "from bs4 import BeautifulSoup\n",
    "with open('/home/green/Documents/input/S83474.html') as fp:\n",
    "    soup = BeautifulSoup(fp)\n",
    "\n",
    "report = soup.findAll('tr')\n",
    "\n",
    "result = {}\n",
    "\n",
    "print report[1]\n",
    "kv = report[1]\n",
    "kv = kv.split('br')\n",
    "for i in range(6):\n",
    "    key, value = kv[i].split(\":\", 1)\n",
    "    result[key] = value\n",
    "\n",
    "    \n",
    "result['Title'] = report[0].text.strip()\n",
    "result['Description'] = report[2].text.strip()\n",
    "print result"
   ]
  },
  {
   "cell_type": "code",
   "execution_count": 24,
   "metadata": {},
   "outputs": [
    {
     "name": "stdout",
     "output_type": "stream",
     "text": [
      "1\n"
     ]
    }
   ],
   "source": [
    "for i, j in enumerate(['foo', 'bar', 'baz']):\n",
    "    if j == 'bar':\n",
    "        print(i)"
   ]
  },
  {
   "cell_type": "code",
   "execution_count": 1,
   "metadata": {},
   "outputs": [
    {
     "ename": "SyntaxError",
     "evalue": "Missing parentheses in call to 'print'. Did you mean print(int \"file cannot be found or be parsered\")? (<ipython-input-1-007a9ec772b9>, line 9)",
     "output_type": "error",
     "traceback": [
      "\u001b[0;36m  File \u001b[0;32m\"<ipython-input-1-007a9ec772b9>\"\u001b[0;36m, line \u001b[0;32m9\u001b[0m\n\u001b[0;31m    print \"file cannot be found or be parsered\"\u001b[0m\n\u001b[0m                                              ^\u001b[0m\n\u001b[0;31mSyntaxError\u001b[0m\u001b[0;31m:\u001b[0m Missing parentheses in call to 'print'. Did you mean print(int \"file cannot be found or be parsered\")?\n"
     ]
    }
   ],
   "source": [
    "from bs4 import BeautifulSoup\n",
    "import requests\n",
    "from lxml import html\n",
    "\n",
    "try:\n",
    "    with open('/home/green/Documents/input/S83474.html') as fp:\n",
    "        soup = BeautifulSoup(fp, \"html.parser\")\n",
    "except:\n",
    "    print \"file cannot be found or be parsered\"\n",
    "    \n",
    "result = {}\n",
    "#print soup\n",
    "for i, row in enumerate(soup.findAll(\"tr\")):\n",
    "    if i == 0:\n",
    "        result\n",
    "    print row\n",
    "    \n",
    "\n",
    "\n"
   ]
  },
  {
   "cell_type": "code",
   "execution_count": 2,
   "metadata": {},
   "outputs": [
    {
     "ename": "SyntaxError",
     "evalue": "Missing parentheses in call to 'print'. Did you mean print(int \"file cannot be found or be parsered\")? (<ipython-input-2-10ee30fb0439>, line 9)",
     "output_type": "error",
     "traceback": [
      "\u001b[0;36m  File \u001b[0;32m\"<ipython-input-2-10ee30fb0439>\"\u001b[0;36m, line \u001b[0;32m9\u001b[0m\n\u001b[0;31m    print \"file cannot be found or be parsered\"\u001b[0m\n\u001b[0m                                              ^\u001b[0m\n\u001b[0;31mSyntaxError\u001b[0m\u001b[0;31m:\u001b[0m Missing parentheses in call to 'print'. Did you mean print(int \"file cannot be found or be parsered\")?\n"
     ]
    }
   ],
   "source": [
    "from bs4 import BeautifulSoup\n",
    "import requests\n",
    "from lxml import html\n",
    "\n",
    "try:\n",
    "    with open('/home/green/Documents/input/S83474.html') as fp:\n",
    "        soup = BeautifulSoup(fp, \"html.parser\")\n",
    "except:\n",
    "    print \"file cannot be found or be parsered\"\n",
    "    \n",
    "result = {}\n",
    "#print soup\n",
    "for i, row in enumerate(soup.findAll(\"tr\")):\n",
    "    if i == 0:\n",
    "        result\n",
    "    print row\n",
    "    "
   ]
  },
  {
   "cell_type": "code",
   "execution_count": 34,
   "metadata": {},
   "outputs": [
    {
     "name": "stdout",
     "output_type": "stream",
     "text": [
      "<tr>\n",
      "<th bgcolor=\"#c0c0c0\" bordercolor=\"#000000\"><font color=\"#000000\" face=\"Calibri\" style=\"FONT-SIZE:11pt\">Sighting Report</font></th>\n",
      "</tr>\n",
      "<tr valign=\"TOP\">\n",
      "<td bordercolor=\"#d0d7e5\"><font color=\"#000000\" face=\"Calibri\" style=\"FONT-SIZE:11pt\">Occurred : 8/1/1973 13:00  (Entered as : 08/01/73 13:00)<br/>Reported: 8/27/2011 9:55:01 AM 09:55<br/>Posted: 10/10/2011<br/>Location: Steubenville, OH<br/>Shape: Cylinder<br/>Duration:7-8 minutes</font></td>\n",
      "</tr>\n",
      "<tr valign=\"TOP\">\n",
      "<td bordercolor=\"#d0d7e5\"><font color=\"#000000\" face=\"Calibri\" style=\"FONT-SIZE:11pt\">Orange cylinder flying slowly at low altitude<br/><br/>The object was traveling slowly at constant speed, approximately 35 degrees east of north over the south side of the city.  It was mid afternoon, clear blue skies, no clouds.  It was flying at an altitude of approx. 300-400 feet, and was viewed for several minutes until exiting our field of view.  It flew with its long axis in a horizontal orientation, and did not appear to change direction or altitude.<br/><br/>The object was cylindrical in shape with hemispherical ends and orange in color.  Around the center third of the object was a rotating frame or cage-like structure, silver in color.  The frame made one revolution every 12-16 seconds (est.).<br/><br/>There were no surface details visible on the cylinder, no visible connection between the frame and the cylinder, there were no lights and no sound.<br/><br/>The object appeared to measure approximately 75 feet in length, and about 15 feet in diameter.  The frame measured between 20-25 feet in diameter.<br/><br/>The frame consisted of a bright silver metallic structure of constant overall diameter, and consisted of horizontal structural members connecting equally space bands or rings.  All of the structure appeared to be of the same material and cross-sectional size, which must have been several inches wide (maybe 6-12 inches).  Spacing between each horizontal or ring member was 4-5 feet.<br/><br/><br/>((NUFORC Note:  Witness indicates that the date of the sighting is approximate.  PD))</font></td>\n",
      "</tr>\n"
     ]
    }
   ],
   "source": [
    "from bs4 import BeautifulSoup\n",
    "import requests\n",
    "from lxml import html\n",
    "\n",
    "try:\n",
    "    with open('/home/green/Documents/input/S83475.html') as fp:\n",
    "        soup = BeautifulSoup(fp, \"html.parser\")\n",
    "except:\n",
    "    print \"file cannot be found or be parsered\"\n",
    "    \n",
    "result = {}\n",
    "#print soup\n",
    "for i, row in enumerate(soup.findAll(\"tr\")):\n",
    "    if i == 0:\n",
    "        result\n",
    "    print row\n",
    "    \n",
    "\n",
    "\n"
   ]
  },
  {
   "cell_type": "code",
   "execution_count": 2,
   "metadata": {},
   "outputs": [
    {
     "name": "stdout",
     "output_type": "stream",
     "text": [
      "{'Description': [u'Orange cylinder flying slowly at low altitude', u'The object was traveling slowly at constant speed, approximately 35 degrees east of north over the south side of the city.  It was mid afternoon, clear blue skies, no clouds.  It was flying at an altitude of approx. 300-400 feet, and was viewed for several minutes until exiting our field of view.  It flew with its long axis in a horizontal orientation, and did not appear to change direction or altitude.', u'The object was cylindrical in shape with hemispherical ends and orange in color.  Around the center third of the object was a rotating frame or cage-like structure, silver in color.  The frame made one revolution every 12-16 seconds (est.).', u'There were no surface details visible on the cylinder, no visible connection between the frame and the cylinder, there were no lights and no sound.', u'The object appeared to measure approximately 75 feet in length, and about 15 feet in diameter.  The frame measured between 20-25 feet in diameter.', u'The frame consisted of a bright silver metallic structure of constant overall diameter, and consisted of horizontal structural members connecting equally space bands or rings.  All of the structure appeared to be of the same material and cross-sectional size, which must have been several inches wide (maybe 6-12 inches).  Spacing between each horizontal or ring member was 4-5 feet.', u'((NUFORC Note:  Witness indicates that the date of the sighting is approximate.  PD))'], u'Occurred ': u' 8/1/1973 13:00  (Entered as : 08/01/73 13:00)', 'Title': u'Sighting Report', u'Reported': u' 8/27/2011 9:55:01 AM 09:55', u'Shape': u' Cylinder', u'Location': u' Steubenville, OH', u'Duration': u'7-8 minutes', u'Posted': u' 10/10/2011'}\n"
     ]
    }
   ],
   "source": [
    "from bs4 import BeautifulSoup\n",
    "with open('/home/green/Documents/input/S83474.html') as fp:\n",
    "    soup = BeautifulSoup(fp)\n",
    "text = soup.get_text('|', strip='True')\n",
    "text = text.split('|')\n",
    "#print len(text)\n",
    "#for i in text:\n",
    "#    print i\n",
    "#    print \"----------------\"\n",
    "report = {}\n",
    "report['Title'] = text[0]\n",
    "report['Description'] = text[7:]\n",
    "for i in range(6):\n",
    "    key, value = text[i+1].split(\":\", 1)\n",
    "    report[key] = value\n",
    "print report"
   ]
  },
  {
   "cell_type": "code",
   "execution_count": 87,
   "metadata": {},
   "outputs": [
    {
     "name": "stdout",
     "output_type": "stream",
     "text": [
      "{'Description': u'Orange cylinder flying slowly at low altitudeThe object was traveling slowly at constant speed, approximately 35 degrees east of north over the south side of the city.  It was mid afternoon, clear blue skies, no clouds.  It was flying at an altitude of approx. 300-400 feet, and was viewed for several minutes until exiting our field of view.  It flew with its long axis in a horizontal orientation, and did not appear to change direction or altitude.The object was cylindrical in shape with hemispherical ends and orange in color.  Around the center third of the object was a rotating frame or cage-like structure, silver in color.  The frame made one revolution every 12-16 seconds (est.).There were no surface details visible on the cylinder, no visible connection between the frame and the cylinder, there were no lights and no sound.The object appeared to measure approximately 75 feet in length, and about 15 feet in diameter.  The frame measured between 20-25 feet in diameter.The frame consisted of a bright silver metallic structure of constant overall diameter, and consisted of horizontal structural members connecting equally space bands or rings.  All of the structure appeared to be of the same material and cross-sectional size, which must have been several inches wide (maybe 6-12 inches).  Spacing between each horizontal or ring member was 4-5 feet.((NUFORC Note:  Witness indicates that the date of the sighting is approximate.  PD))', 'Occurred ': ' 8/1/1973 13:00  ', 'Title': u'Sighting Report', 'Reported': ' 8/27/2011 9:55:01 AM 09:55', 'Shape': ' Cylinder', 'Location': ' Steubenville, OH', 'Entered as ': ' 08/01/73 13:00', 'Duration': '7-8 minutes', 'Posted': ' 10/10/2011'}\n"
     ]
    }
   ],
   "source": [
    "#extract seperate file and convert to dictionary\n",
    "#report.keys = ['Title', 'Occurred Time', 'Reported Time', 'Posted Date', 'Location', 'Shape', 'Duration', 'Description']\n",
    "#def extract2(filename):\n",
    "from bs4 import BeautifulSoup\n",
    "filename = '/home/green/Documents/input/S83474.html'\n",
    "file = open(filename, mode='r')\n",
    "text = file.read()\n",
    "file.close()\n",
    "report = text.split(\"</TR>\")\n",
    "#print len(report)\n",
    "#for i in report:\n",
    "#    print i\n",
    "#    print \"-------------\"\n",
    "title, kv, description, end = report\n",
    "kv = kv.split(\"<BR>\")\n",
    "#print len(kv)\n",
    "kv[0] = kv[0].split(\">\")[-1]\n",
    "kv[0], temp = kv[0].split(\"(\")\n",
    "kv = kv + [temp]\n",
    "kv[-2] = kv[-2].split(\"<\")[0]\n",
    "kv[-1] = kv[-1].split(\")\")[0]\n",
    "result = {}\n",
    "for i in kv:\n",
    "    key, value = i.split(\":\", 1)\n",
    "    result[key] = value\n",
    "report[0] = BeautifulSoup(report[0]).get_text(strip='True')\n",
    "report[2] = BeautifulSoup(report[2]).get_text(strip='True')\n",
    "result['Title'] = report[0]\n",
    "result['Description'] = report[2]\n",
    "print result\n",
    "\n"
   ]
  },
  {
   "cell_type": "code",
   "execution_count": null,
   "metadata": {},
   "outputs": [],
   "source": [
    "#convert to JSON\n",
    "def convert_to_json(report):\n",
    "            with open(results_file, 'w') as fp:\n",
    "            print \"\\n\".join(tmp)\n",
    "            fp.write(\"\\n\".join(tmp))"
   ]
  },
  {
   "cell_type": "code",
   "execution_count": null,
   "metadata": {
    "scrolled": false
   },
   "outputs": [],
   "source": [
    "# load json and convert to dataframe\n",
    "\n",
    "import json\n",
    "import pandas as pd\n",
    "filename = '/home/green/Documents/input/S83474.json'\n",
    "file = open(filename, mode='r') \n",
    "resp = json.loads(file.read())\n",
    "pd.read"
   ]
  },
  {
   "cell_type": "code",
   "execution_count": null,
   "metadata": {},
   "outputs": [],
   "source": [
    "#convert location to city, state, latitude, longitude\n",
    "#convert duration into seconds"
   ]
  },
  {
   "cell_type": "markdown",
   "metadata": {},
   "source": [
    "##**Exploratory Data Analysis**\n",
    "1. UFO happens frequent area?\n",
    "2. "
   ]
  },
  {
   "cell_type": "code",
   "execution_count": null,
   "metadata": {},
   "outputs": [],
   "source": []
  }
 ],
 "metadata": {
  "kernelspec": {
   "display_name": "Python 3",
   "language": "python",
   "name": "python3"
  },
  "language_info": {
   "codemirror_mode": {
    "name": "ipython",
    "version": 3
   },
   "file_extension": ".py",
   "mimetype": "text/x-python",
   "name": "python",
   "nbconvert_exporter": "python",
   "pygments_lexer": "ipython3",
   "version": "3.6.4"
  }
 },
 "nbformat": 4,
 "nbformat_minor": 2
}
